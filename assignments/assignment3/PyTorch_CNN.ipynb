{
  "nbformat": 4,
  "nbformat_minor": 0,
  "metadata": {
    "accelerator": "GPU",
    "colab": {
      "name": "PyTorch_CNN.ipynb",
      "provenance": [],
      "collapsed_sections": []
    },
    "kernelspec": {
      "display_name": "Python 3",
      "language": "python",
      "name": "python3"
    },
    "language_info": {
      "codemirror_mode": {
        "name": "ipython",
        "version": 3
      },
      "file_extension": ".py",
      "mimetype": "text/x-python",
      "name": "python",
      "nbconvert_exporter": "python",
      "pygments_lexer": "ipython3",
      "version": "3.8.10"
    }
  },
  "cells": [
    {
      "cell_type": "markdown",
      "metadata": {
        "id": "EpbvGxvOsrDB"
      },
      "source": [
        "# Задание 3.2 - сверточные нейронные сети (CNNs) в PyTorch\n",
        "\n",
        "Это упражнение мы буде выполнять в Google Colab - https://colab.research.google.com/  \n",
        "Google Colab позволяет запускать код в notebook в облаке Google, где можно воспользоваться бесплатным GPU!  \n",
        "\n",
        "Авторы курса благодарят компанию Google и надеятся, что праздник не закончится.\n",
        "\n",
        "Туториал по настройке Google Colab:  \n",
        "https://medium.com/deep-learning-turkey/google-colab-free-gpu-tutorial-e113627b9f5d  \n",
        "(Keras инсталлировать не нужно, наш notebook сам установит PyTorch)\n"
      ]
    },
    {
      "cell_type": "code",
      "metadata": {
        "colab": {
          "base_uri": "https://localhost:8080/"
        },
        "id": "FcXBeP1O7cnY",
        "outputId": "f50ce984-5926-4328-958a-7aaaddd38316"
      },
      "source": [
        "# Intstall PyTorch and download data\n",
        "!pip3 install torch torchvision\n",
        "\n",
        "!wget -c http://ufldl.stanford.edu/housenumbers/train_32x32.mat http://ufldl.stanford.edu/housenumbers/test_32x32.mat"
      ],
      "execution_count": 1,
      "outputs": [
        {
          "output_type": "stream",
          "text": [
            "Requirement already satisfied: torch in /usr/local/lib/python3.7/dist-packages (1.9.0+cu102)\n",
            "Requirement already satisfied: torchvision in /usr/local/lib/python3.7/dist-packages (0.10.0+cu102)\n",
            "Requirement already satisfied: typing-extensions in /usr/local/lib/python3.7/dist-packages (from torch) (3.7.4.3)\n",
            "Requirement already satisfied: numpy in /usr/local/lib/python3.7/dist-packages (from torchvision) (1.19.5)\n",
            "Requirement already satisfied: pillow>=5.3.0 in /usr/local/lib/python3.7/dist-packages (from torchvision) (7.1.2)\n",
            "--2021-08-15 05:56:43--  http://ufldl.stanford.edu/housenumbers/train_32x32.mat\n",
            "Resolving ufldl.stanford.edu (ufldl.stanford.edu)... 171.64.68.10\n",
            "Connecting to ufldl.stanford.edu (ufldl.stanford.edu)|171.64.68.10|:80... connected.\n",
            "HTTP request sent, awaiting response... 200 OK\n",
            "Length: 182040794 (174M) [text/plain]\n",
            "Saving to: ‘train_32x32.mat’\n",
            "\n",
            "train_32x32.mat     100%[===================>] 173.61M  49.7MB/s    in 4.1s    \n",
            "\n",
            "2021-08-15 05:56:47 (42.7 MB/s) - ‘train_32x32.mat’ saved [182040794/182040794]\n",
            "\n",
            "--2021-08-15 05:56:47--  http://ufldl.stanford.edu/housenumbers/test_32x32.mat\n",
            "Reusing existing connection to ufldl.stanford.edu:80.\n",
            "HTTP request sent, awaiting response... 200 OK\n",
            "Length: 64275384 (61M) [text/plain]\n",
            "Saving to: ‘test_32x32.mat’\n",
            "\n",
            "test_32x32.mat      100%[===================>]  61.30M  16.5MB/s    in 3.7s    \n",
            "\n",
            "2021-08-15 05:56:51 (16.4 MB/s) - ‘test_32x32.mat’ saved [64275384/64275384]\n",
            "\n",
            "FINISHED --2021-08-15 05:56:51--\n",
            "Total wall clock time: 7.9s\n",
            "Downloaded: 2 files, 235M in 7.8s (30.1 MB/s)\n"
          ],
          "name": "stdout"
        }
      ]
    },
    {
      "cell_type": "code",
      "metadata": {
        "id": "-afwWw-Q85vD"
      },
      "source": [
        "from collections import namedtuple\n",
        "\n",
        "import matplotlib.pyplot as plt\n",
        "import numpy as np\n",
        "import PIL\n",
        "import torch\n",
        "import torch.nn as nn\n",
        "import torch.optim as optim\n",
        "import torchvision.datasets as dset\n",
        "from torch.utils.data.sampler import SubsetRandomSampler\n",
        "\n",
        "from torchvision import transforms"
      ],
      "execution_count": 2,
      "outputs": []
    },
    {
      "cell_type": "code",
      "metadata": {
        "id": "NNU-OD9O9ltP"
      },
      "source": [
        "device = torch.device(\"cuda:0\") # Let's make sure GPU is available!"
      ],
      "execution_count": 3,
      "outputs": []
    },
    {
      "cell_type": "markdown",
      "metadata": {
        "id": "N5H7WZ4qsrDG"
      },
      "source": [
        "# Загружаем данные"
      ]
    },
    {
      "cell_type": "code",
      "metadata": {
        "id": "YAvkoRx-9FsP"
      },
      "source": [
        "# First, lets load the dataset\n",
        "data_train = dset.SVHN('./', \n",
        "                       transform=transforms.Compose([\n",
        "                           transforms.ToTensor(),\n",
        "                           transforms.Normalize(mean=[0.43,0.44,0.47],\n",
        "                                               std=[0.20,0.20,0.20])                           \n",
        "                       ])\n",
        "                      )\n",
        "data_test = dset.SVHN('./', split='test', transform=transforms.Compose([\n",
        "                           transforms.ToTensor(),\n",
        "                           transforms.Normalize(mean=[0.43,0.44,0.47],\n",
        "                                               std=[0.20,0.20,0.20])                           \n",
        "                       ]))"
      ],
      "execution_count": 4,
      "outputs": []
    },
    {
      "cell_type": "markdown",
      "metadata": {
        "id": "YM47WA_psrDH"
      },
      "source": [
        "Разделяем данные на training и validation.\n",
        "\n",
        "На всякий случай для подробностей - https://pytorch.org/tutorials/beginner/data_loading_tutorial.html"
      ]
    },
    {
      "cell_type": "code",
      "metadata": {
        "colab": {
          "base_uri": "https://localhost:8080/"
        },
        "id": "lo-wUCM0zgj0",
        "outputId": "979f51ee-a454-4d66-df82-b1e850c485e9"
      },
      "source": [
        "from google.colab import drive\n",
        "drive.mount('/content/drive')"
      ],
      "execution_count": 5,
      "outputs": [
        {
          "output_type": "stream",
          "text": [
            "Mounted at /content/drive\n"
          ],
          "name": "stdout"
        }
      ]
    },
    {
      "cell_type": "code",
      "metadata": {
        "id": "YRnr8CPg7Hli"
      },
      "source": [
        "batch_size = 64\n",
        "\n",
        "data_size = data_train.data.shape[0]\n",
        "validation_split = .2\n",
        "split = int(np.floor(validation_split * data_size))\n",
        "indices = list(range(data_size))\n",
        "np.random.shuffle(indices)\n",
        "\n",
        "train_indices, val_indices = indices[split:], indices[:split]\n",
        "\n",
        "train_sampler = SubsetRandomSampler(train_indices)\n",
        "val_sampler = SubsetRandomSampler(val_indices)\n",
        "\n",
        "train_loader = torch.utils.data.DataLoader(data_train, batch_size=batch_size, \n",
        "                                           sampler=train_sampler)\n",
        "val_loader = torch.utils.data.DataLoader(data_train, batch_size=batch_size,\n",
        "                                         sampler=val_sampler)"
      ],
      "execution_count": 6,
      "outputs": []
    },
    {
      "cell_type": "code",
      "metadata": {
        "id": "LyYvt-T67PBG"
      },
      "source": [
        "# We'll use a special helper module to shape it into a flat tensor\n",
        "class Flattener(nn.Module):\n",
        "    def forward(self, x):\n",
        "        batch_size, *_ = x.shape\n",
        "        return x.view(batch_size, -1)"
      ],
      "execution_count": 7,
      "outputs": []
    },
    {
      "cell_type": "markdown",
      "metadata": {
        "id": "g_Ixw8B9srDI"
      },
      "source": [
        "Создадим простейшую сеть с новыми слоями:  \n",
        "Convolutional - `nn.Conv2d`  \n",
        "MaxPool - `nn.MaxPool2d`"
      ]
    },
    {
      "cell_type": "code",
      "metadata": {
        "id": "w9SFVGZP7SQd"
      },
      "source": [
        "nn_model = nn.Sequential(\n",
        "            nn.Conv2d(3, 64, 3, padding=1),\n",
        "            nn.ReLU(inplace=True),\n",
        "            nn.MaxPool2d(4),\n",
        "            nn.Conv2d(64, 64, 3, padding=1),\n",
        "            nn.ReLU(inplace=True),\n",
        "            nn.MaxPool2d(4),    \n",
        "            Flattener(),\n",
        "            nn.Linear(64*2*2, 10),\n",
        "          )\n",
        "\n",
        "nn_model.type(torch.cuda.FloatTensor)\n",
        "nn_model.to(device)\n",
        "\n",
        "loss = nn.CrossEntropyLoss().type(torch.cuda.FloatTensor)\n",
        "optimizer = optim.SGD(nn_model.parameters(), lr=1e-1, weight_decay=1e-4)"
      ],
      "execution_count": null,
      "outputs": []
    },
    {
      "cell_type": "markdown",
      "metadata": {
        "id": "7zchHyMJsrDJ"
      },
      "source": [
        "Восстановите функцию `compute_accuracy` из прошлого задания.  \n",
        "Единственное отличие в новом - она должна передать данные на GPU прежде чем прогонять через модель. Сделайте это так же, как это делает функция `train_model`"
      ]
    },
    {
      "cell_type": "code",
      "metadata": {
        "id": "2ek3KVQK7hJ6"
      },
      "source": [
        "def train_model(model, train_loader, val_loader, loss, optimizer, num_epochs, scheduler=None, anneal_epochs=None):    \n",
        "    loss_history = []\n",
        "    train_history = []\n",
        "    val_history = []\n",
        "    for epoch in range(num_epochs):\n",
        "        model.train() # Enter train mode\n",
        "        \n",
        "        loss_accum = 0\n",
        "        correct_samples = 0\n",
        "        total_samples = 0\n",
        "        for i_step, (x, y) in enumerate(train_loader):\n",
        "          \n",
        "            x_gpu = x.to(device)\n",
        "            y_gpu = y.to(device)\n",
        "            prediction = model(x_gpu)    \n",
        "            loss_value = loss(prediction, y_gpu)\n",
        "            optimizer.zero_grad()\n",
        "            loss_value.backward()\n",
        "            optimizer.step()\n",
        "            \n",
        "            _, indices = torch.max(prediction, 1)\n",
        "            correct_samples += torch.sum(indices == y_gpu)\n",
        "            total_samples += y.shape[0]\n",
        "            \n",
        "            loss_accum += loss_value\n",
        "\n",
        "        ave_loss = loss_accum / i_step\n",
        "        train_accuracy = float(correct_samples) / total_samples\n",
        "        val_accuracy = compute_accuracy(model, val_loader)\n",
        "        \n",
        "        loss_history.append(float(ave_loss))\n",
        "        train_history.append(train_accuracy)\n",
        "        val_history.append(val_accuracy)\n",
        "        \n",
        "        print(\"Average loss: %f, Train accuracy: %f, Val accuracy: %f\" % (ave_loss, train_accuracy, val_accuracy))\n",
        "\n",
        "        if epoch > 5 and val_accuracy < 0.5:\n",
        "            break\n",
        "\n",
        "        if not scheduler:\n",
        "            continue\n",
        "\n",
        "        scheduler.step()\n",
        "\n",
        "     \n",
        "    return loss_history, train_history, val_history\n",
        "        \n",
        "def compute_accuracy(model, loader):\n",
        "    \"\"\"\n",
        "    Computes accuracy on the dataset wrapped in a loader\n",
        "    \n",
        "    Returns: accuracy as a float value between 0 and 1\n",
        "    \"\"\"\n",
        "    model.eval() # Evaluation mode\n",
        "    # TODO: Copy implementation from previous assignment\n",
        "    # Don't forget to move the data to device before running it through the model!\n",
        "    \n",
        "    correct_samples = 0\n",
        "    total_samples = 0\n",
        "    \n",
        "    for i_step, (x, y) in enumerate(loader):\n",
        "        x_gpu = x.to(device)\n",
        "        y_gpu = y.to(device)\n",
        "        prediction = model(x_gpu)    \n",
        "        indices = torch.argmax(prediction, 1)\n",
        "        correct_samples += torch.sum(indices == y_gpu)\n",
        "        total_samples += y.shape[0]\n",
        "         \n",
        "    accuracy = float(correct_samples) / total_samples\n",
        "\n",
        "    return accuracy\n",
        "\n",
        "# loss_history, train_history, val_history = train_model(nn_model, train_loader, val_loader, loss, optimizer, 5)"
      ],
      "execution_count": 57,
      "outputs": []
    },
    {
      "cell_type": "markdown",
      "metadata": {
        "id": "6a-3a1ZFGEw_"
      },
      "source": [
        "# Аугментация данных (Data augmentation)\n",
        "\n",
        "В работе с изображениями одним из особенно важных методов является аугментация данных - то есть, генерация дополнительных данных для тренировки на основе изначальных.   \n",
        "Таким образом, мы получаем возможность \"увеличить\" набор данных для тренировки, что ведет к лучшей работе сети.\n",
        "Важно, чтобы аугментированные данные были похожи на те, которые могут встретиться в реальной жизни, иначе польза от аугментаций уменьшается и может ухудшить работу сети.\n",
        "\n",
        "С PyTorch идут несколько таких алгоритмов, называемых `transforms`. Более подробно про них можно прочитать тут -\n",
        "https://pytorch.org/tutorials/beginner/data_loading_tutorial.html#transforms\n",
        "\n",
        "Ниже мы используем следующие алгоритмы генерации:\n",
        "- ColorJitter - случайное изменение цвета\n",
        "- RandomHorizontalFlip - горизонтальное отражение с вероятностью 50%\n",
        "- RandomVerticalFlip - вертикальное отражение с вероятностью 50%\n",
        "- RandomRotation - случайный поворот"
      ]
    },
    {
      "cell_type": "code",
      "metadata": {
        "colab": {
          "base_uri": "https://localhost:8080/"
        },
        "id": "jCWMUWmr7t5g",
        "outputId": "c1a9db45-d753-44e3-b1bc-396ceec22af6"
      },
      "source": [
        "tfs = transforms.Compose([\n",
        "    transforms.ColorJitter(hue=.50, saturation=.50),\n",
        "    transforms.RandomHorizontalFlip(),\n",
        "    transforms.RandomVerticalFlip(),\n",
        "    transforms.RandomRotation(50, resample=PIL.Image.BILINEAR),\n",
        "    transforms.ToTensor(),\n",
        "    transforms.Normalize(mean=[0.43,0.44,0.47],\n",
        "                       std=[0.20,0.20,0.20])                           \n",
        "])\n",
        "\n",
        "# Create augmented train dataset\n",
        "data_aug_train = dset.SVHN('./', \n",
        "                       transform=tfs\n",
        "                      )\n",
        "\n",
        "train_aug_loader = torch.utils.data.DataLoader(data_aug_train, batch_size=batch_size, \n",
        "                                           sampler=train_sampler)"
      ],
      "execution_count": 9,
      "outputs": [
        {
          "output_type": "stream",
          "text": [
            "/usr/local/lib/python3.7/dist-packages/torchvision/transforms/transforms.py:1231: UserWarning: Argument resample is deprecated and will be removed since v0.10.0. Please, use interpolation instead\n",
            "  \"Argument resample is deprecated and will be removed since v0.10.0. Please, use interpolation instead\"\n"
          ],
          "name": "stderr"
        }
      ]
    },
    {
      "cell_type": "markdown",
      "metadata": {
        "id": "veph3ch0srDL"
      },
      "source": [
        "Визуализируем результаты агментации (вообще, смотреть на сгенерированные данные всегда очень полезно)."
      ]
    },
    {
      "cell_type": "code",
      "metadata": {
        "colab": {
          "base_uri": "https://localhost:8080/",
          "height": 154
        },
        "id": "YlJJEro1KZ45",
        "outputId": "a06cfb43-5739-400e-95b6-ed402e97e0d6"
      },
      "source": [
        "# TODO: Visualize some augmented images!\n",
        "# hint: you can create new datasets and loaders to accomplish this\n",
        "\n",
        "# Based on the visualizations, should we keep all the augmentations?\n",
        "\n",
        "tfs = transforms.Compose([\n",
        "    transforms.ColorJitter(hue=.20, saturation=.20),\n",
        "    transforms.RandomHorizontalFlip(),\n",
        "    transforms.RandomVerticalFlip(),\n",
        "    transforms.RandomRotation(10, resample=PIL.Image.BILINEAR),\n",
        "])\n",
        "\n",
        "data_aug_vis = dset.SVHN('./', \n",
        "                       transform=tfs\n",
        "                      )\n",
        "\n",
        "plt.figure(figsize=(30, 3))\n",
        "\n",
        "for i, (x, y) in enumerate(data_aug_vis):\n",
        "    if i == 10:\n",
        "        break\n",
        "    plt.subplot(1, 10, i+1)\n",
        "    plt.grid(False)\n",
        "    plt.imshow(x)\n",
        "    plt.axis('off')"
      ],
      "execution_count": 10,
      "outputs": [
        {
          "output_type": "stream",
          "text": [
            "/usr/local/lib/python3.7/dist-packages/torchvision/transforms/transforms.py:1231: UserWarning: Argument resample is deprecated and will be removed since v0.10.0. Please, use interpolation instead\n",
            "  \"Argument resample is deprecated and will be removed since v0.10.0. Please, use interpolation instead\"\n"
          ],
          "name": "stderr"
        },
        {
          "output_type": "display_data",
          "data": {
            "image/png": "[encoded data removed]",
            "text/plain": [
              "<Figure size 2160x216 with 10 Axes>"
            ]
          },
          "metadata": {
            "tags": [],
            "needs_background": "light"
          }
        }
      ]
    },
    {
      "cell_type": "markdown",
      "metadata": {
        "id": "o2LrmsYHoguB"
      },
      "source": [
        "Все ли агментации одинаково полезны на этом наборе данных? Могут ли быть среди них те, которые собьют модель с толку?\n",
        "\n",
        "Выберите из них только корректные"
      ]
    },
    {
      "cell_type": "code",
      "metadata": {
        "colab": {
          "base_uri": "https://localhost:8080/"
        },
        "id": "evro9ksXGs9u",
        "outputId": "4fe0b70a-4225-4e6a-c936-d52a61f52b9a"
      },
      "source": [
        "# TODO: \n",
        "tfs = transforms.Compose([\n",
        "    # TODO: Add good augmentations\n",
        "    transforms.ColorJitter(hue=.20, saturation=.20),\n",
        "    transforms.RandomRotation(10, interpolation=PIL.Image.BILINEAR),\n",
        "    transforms.ToTensor(),\n",
        "    transforms.Normalize(mean=[0.43,0.44,0.47],\n",
        "                       std=[0.20,0.20,0.20])                           \n",
        "])\n",
        "\n",
        "data_aug_train = dset.SVHN('./', \n",
        "                       transform=tfs\n",
        "                      )\n",
        "\n",
        "# TODO create new instances of loaders with the augmentations you chose\n",
        "\n",
        "train_aug_loader = torch.utils.data.DataLoader(data_aug_train, batch_size=batch_size, \n",
        "                                           sampler=train_sampler)"
      ],
      "execution_count": 11,
      "outputs": [
        {
          "output_type": "stream",
          "text": [
            "/usr/local/lib/python3.7/dist-packages/torchvision/transforms/transforms.py:1238: UserWarning: Argument interpolation should be of type InterpolationMode instead of int. Please, use InterpolationMode enum.\n",
            "  \"Argument interpolation should be of type InterpolationMode instead of int. \"\n"
          ],
          "name": "stderr"
        }
      ]
    },
    {
      "cell_type": "code",
      "metadata": {
        "colab": {
          "base_uri": "https://localhost:8080/"
        },
        "id": "PeO6Zw0DHqPR",
        "outputId": "0546f6cb-9443-497f-c4e0-502ee46070f7"
      },
      "source": [
        "# Finally, let's train with augmentations!\n",
        "\n",
        "# Note we shouldn't use augmentations on validation\n",
        "\n",
        "loss_history, train_history, val_history = train_model(nn_model, train_aug_loader, val_loader, loss, optimizer, 5)"
      ],
      "execution_count": null,
      "outputs": [
        {
          "output_type": "stream",
          "text": [
            "Average loss: 0.614537, Train accuracy: 0.811726, Val accuracy: 0.847178\n",
            "Average loss: 0.565538, Train accuracy: 0.827953, Val accuracy: 0.803495\n",
            "Average loss: 0.541198, Train accuracy: 0.836621, Val accuracy: 0.859873\n",
            "Average loss: 0.525816, Train accuracy: 0.839743, Val accuracy: 0.854071\n",
            "Average loss: 0.516308, Train accuracy: 0.844163, Val accuracy: 0.863081\n"
          ],
          "name": "stdout"
        }
      ]
    },
    {
      "cell_type": "markdown",
      "metadata": {
        "id": "r0bcioK6JBDK"
      },
      "source": [
        "# LeNet\n",
        "Попробуем имплементировать классическую архитектуру сверточной нейронной сети, предложенную Яном ЛеКуном в 1998 году. В свое время она достигла впечатляющих результатов на MNIST, посмотрим как она справится с SVHN?\n",
        "Она описана в статье [\"Gradient Based Learning Applied to Document Recognition\"](http://yann.lecun.com/exdb/publis/pdf/lecun-01a.pdf), попробуйте прочитать ключевые части и имплементировать предложенную архитетуру на PyTorch.\n",
        "\n",
        "Реализовывать слои и функцию ошибки LeNet, которых нет в PyTorch, **не нужно** - просто возьмите их размеры и переведите в уже известные нам Convolutional, Pooling и Fully Connected layers.\n",
        "\n",
        "Если в статье не очень понятно, можно просто погуглить LeNet и разобраться в деталях :)"
      ]
    },
    {
      "cell_type": "code",
      "metadata": {
        "id": "ieEzZUglJAUB"
      },
      "source": [
        "# TODO: Implement LeNet-like architecture for SVHN task\n",
        "lenet_model = nn.Sequential(\n",
        "            nn.Conv2d(3, 6, 5),\n",
        "            nn.AvgPool2d(2),\n",
        "            nn.Tanh(),\n",
        "            nn.Conv2d(6, 16, 5),\n",
        "            nn.AvgPool2d(2),\n",
        "            nn.Tanh(),\n",
        "            nn.Conv2d(16, 120, 5),\n",
        "            nn.Tanh(),\n",
        "            Flattener(),\n",
        "            nn.Linear(120, 84),\n",
        "            nn.Tanh(),\n",
        "            nn.Linear(84, 10)\n",
        "          )\n",
        "\n",
        "lenet_model.type(torch.cuda.FloatTensor)\n",
        "lenet_model.to(device)\n",
        "\n",
        "loss = nn.CrossEntropyLoss().type(torch.cuda.FloatTensor)\n",
        "optimizer = optim.SGD(lenet_model.parameters(), lr=1e-1, weight_decay=1e-4)"
      ],
      "execution_count": null,
      "outputs": []
    },
    {
      "cell_type": "code",
      "metadata": {
        "id": "WMmaPfdeKk9H",
        "colab": {
          "base_uri": "https://localhost:8080/"
        },
        "outputId": "dd464aa9-bff1-493c-d52c-e34b4df5c7d1"
      },
      "source": [
        "# Let's train it!\n",
        "loss_history, train_history, val_history = train_model(lenet_model, train_aug_loader, val_loader, loss, optimizer, 10)"
      ],
      "execution_count": null,
      "outputs": [
        {
          "output_type": "stream",
          "text": [
            "Average loss: 2.038343, Train accuracy: 0.290977, Val accuracy: 0.603167\n",
            "Average loss: 0.818385, Train accuracy: 0.747261, Val accuracy: 0.801584\n",
            "Average loss: 0.591051, Train accuracy: 0.819541, Val accuracy: 0.852229\n",
            "Average loss: 0.521520, Train accuracy: 0.840119, Val accuracy: 0.860965\n",
            "Average loss: 0.480949, Train accuracy: 0.854042, Val accuracy: 0.864173\n",
            "Average loss: 0.451818, Train accuracy: 0.859912, Val accuracy: 0.860351\n",
            "Average loss: 0.428962, Train accuracy: 0.868904, Val accuracy: 0.874070\n",
            "Average loss: 0.413287, Train accuracy: 0.873631, Val accuracy: 0.869156\n",
            "Average loss: 0.397106, Train accuracy: 0.877385, Val accuracy: 0.874070\n",
            "Average loss: 0.380853, Train accuracy: 0.882640, Val accuracy: 0.871408\n"
          ],
          "name": "stdout"
        }
      ]
    },
    {
      "cell_type": "markdown",
      "metadata": {
        "id": "u_O9qiYySvuj"
      },
      "source": [
        "# Подбор гиперпараметров"
      ]
    },
    {
      "cell_type": "code",
      "metadata": {
        "id": "i6mhfdQ9K-N3",
        "colab": {
          "base_uri": "https://localhost:8080/"
        },
        "outputId": "8870ec5b-a72b-4fdb-88e2-89d5bd7beff2"
      },
      "source": [
        "# The key hyperparameters we're going to tune are learning speed, annealing rate and regularization\n",
        "# We also encourage you to try different optimizers as well\n",
        "\n",
        "Hyperparams = namedtuple(\"Hyperparams\", ['learning_rate', 'anneal_coeff', 'anneal_epochs', 'reg'])\n",
        "RunResult = namedtuple(\"RunResult\", ['model', 'train_history', 'val_history', 'final_val_accuracy'])\n",
        "\n",
        "learning_rates = [1e0, 1e-1, 1e-2, 1e-3, 1e-4]\n",
        "anneal_coeff = 0.2\n",
        "anneal_epochs = [1, 5, 10, 15, 20, 50]\n",
        "reg = [1e-2, 1e-3, 1e-4, 1e-5, 1e-7]\n",
        "\n",
        "batch_size = 64\n",
        "epoch_num = 10\n",
        "\n",
        "# Record all the runs here\n",
        "# Key should be Hyperparams and values should be RunResult\n",
        "run_record = {} \n",
        "\n",
        "# Use grid search or random search and record all runs in run_record dictionnary \n",
        "# Important: perform search in logarithmic space!\n",
        "\n",
        "# TODO: Your code here!\n",
        "\n",
        "annotation = \"\"\"Learning rate {}, \n",
        "Learning rate annealing {}, \n",
        "Learning rate decay step size epoch {},\n",
        "Regularization strength {}\"\"\"\n",
        "\n",
        "hyperparameters_presets = []\n",
        "\n",
        "for i in range(10):\n",
        "    learning_rate = 10**np.random.uniform(0, -4)\n",
        "    anneal_coeff = np.random.uniform(1e-0, 1e-2)\n",
        "    anneal_epoch = np.random.randint(epoch_num)\n",
        "    reg_strength = np.random.choice(reg)\n",
        "\n",
        "    hyperparams = Hyperparams(learning_rate, anneal_coeff, anneal_epoch, reg_strength)\n",
        "\n",
        "    title = annotation.format(learning_rate, anneal_coeff, anneal_epoch, reg_strength)\n",
        "    print(title)\n",
        "\n",
        "    # Model structure\n",
        "    lenet_model = nn.Sequential(\n",
        "              nn.Conv2d(3, 6, 5),\n",
        "              nn.AvgPool2d(2),\n",
        "              nn.Tanh(),\n",
        "              nn.Conv2d(6, 16, 5),\n",
        "              nn.AvgPool2d(2),\n",
        "              nn.Tanh(),\n",
        "              nn.Conv2d(16, 120, 5),\n",
        "              nn.Tanh(),\n",
        "              Flattener(),\n",
        "              nn.Linear(120, 84),\n",
        "              nn.Tanh(),\n",
        "              nn.Linear(84, 10)\n",
        "            )\n",
        "\n",
        "    lenet_model.type(torch.cuda.FloatTensor)\n",
        "    lenet_model.to(device)\n",
        "\n",
        "    loss = nn.CrossEntropyLoss().type(torch.cuda.FloatTensor)\n",
        "    optimizer = optim.SGD(lenet_model.parameters(), learning_rate, weight_decay=reg_strength)\n",
        "    scheduler = optim.lr_scheduler.StepLR(optimizer, step_size=anneal_epoch, gamma=anneal_coeff)\n",
        "\n",
        "    loss_history, train_history, val_history = train_model(lenet_model,\n",
        "                                                           train_aug_loader,\n",
        "                                                           val_loader,\n",
        "                                                           loss, optimizer, epoch_num,\n",
        "                                                           scheduler, anneal_epoch)\n",
        "\n",
        "    final_val_accuracy = val_history[-1]\n",
        "    run_result = RunResult(lenet_model, train_history, val_history, final_val_accuracy)    \n",
        "    run_record[hyperparams] = run_result\n"
      ],
      "execution_count": null,
      "outputs": [
        {
          "output_type": "stream",
          "text": [
            "Learning rate 0.0002675943144518634, \n",
            "Learning rate annealing 0.6063280050250031, \n",
            "Learning rate decay step size epoch 3,\n",
            "Regularization strength 0.001\n",
            "Average loss: 2.294763, Train accuracy: 0.142665, Val accuracy: 0.165722\n",
            "Average loss: 2.289082, Train accuracy: 0.181057, Val accuracy: 0.189066\n",
            "Average loss: 2.284007, Train accuracy: 0.188377, Val accuracy: 0.191181\n",
            "Average loss: 2.280309, Train accuracy: 0.188633, Val accuracy: 0.191181\n",
            "Average loss: 2.277655, Train accuracy: 0.188718, Val accuracy: 0.191181\n",
            "Average loss: 2.275127, Train accuracy: 0.188718, Val accuracy: 0.191181\n",
            "Average loss: 2.273200, Train accuracy: 0.188718, Val accuracy: 0.191181\n",
            "Average loss: 2.271869, Train accuracy: 0.188718, Val accuracy: 0.191181\n",
            "Average loss: 2.270509, Train accuracy: 0.188718, Val accuracy: 0.191181\n",
            "Average loss: 2.269454, Train accuracy: 0.188718, Val accuracy: 0.191181\n",
            "Learning rate 0.0007345348621048946, \n",
            "Learning rate annealing 0.3387922985671221, \n",
            "Learning rate decay step size epoch 1,\n",
            "Regularization strength 0.0001\n",
            "Average loss: 2.291511, Train accuracy: 0.173924, Val accuracy: 0.189066\n",
            "Average loss: 2.279814, Train accuracy: 0.187626, Val accuracy: 0.190704\n",
            "Average loss: 2.276261, Train accuracy: 0.188462, Val accuracy: 0.191113\n",
            "Average loss: 2.274998, Train accuracy: 0.188530, Val accuracy: 0.191181\n",
            "Average loss: 2.274742, Train accuracy: 0.188633, Val accuracy: 0.191250\n",
            "Average loss: 2.274584, Train accuracy: 0.188564, Val accuracy: 0.191250\n",
            "Average loss: 2.274513, Train accuracy: 0.188564, Val accuracy: 0.191250\n",
            "Average loss: 2.274530, Train accuracy: 0.188530, Val accuracy: 0.191250\n",
            "Average loss: 2.274474, Train accuracy: 0.188564, Val accuracy: 0.191250\n",
            "Average loss: 2.274448, Train accuracy: 0.188633, Val accuracy: 0.191250\n",
            "Learning rate 0.019698825708042867, \n",
            "Learning rate annealing 0.8900166746255349, \n",
            "Learning rate decay step size epoch 6,\n",
            "Regularization strength 0.001\n",
            "Average loss: 2.244885, Train accuracy: 0.184520, Val accuracy: 0.191250\n",
            "Average loss: 2.223550, Train accuracy: 0.202078, Val accuracy: 0.225377\n",
            "Average loss: 2.152819, Train accuracy: 0.255213, Val accuracy: 0.322572\n",
            "Average loss: 1.744226, Train accuracy: 0.412705, Val accuracy: 0.558324\n",
            "Average loss: 1.199132, Train accuracy: 0.616916, Val accuracy: 0.662412\n",
            "Average loss: 0.887907, Train accuracy: 0.728867, Val accuracy: 0.779059\n",
            "Average loss: 0.735164, Train accuracy: 0.777856, Val accuracy: 0.806430\n",
            "Average loss: 0.656395, Train accuracy: 0.800891, Val accuracy: 0.822196\n",
            "Average loss: 0.609254, Train accuracy: 0.815548, Val accuracy: 0.835779\n",
            "Average loss: 0.576331, Train accuracy: 0.826008, Val accuracy: 0.838441\n",
            "Learning rate 0.07442326563799709, \n",
            "Learning rate annealing 0.573783325838491, \n",
            "Learning rate decay step size epoch 4,\n",
            "Regularization strength 0.01\n",
            "Average loss: 2.239103, Train accuracy: 0.187268, Val accuracy: 0.191113\n",
            "Average loss: 2.230462, Train accuracy: 0.188274, Val accuracy: 0.189612\n",
            "Average loss: 2.225506, Train accuracy: 0.187558, Val accuracy: 0.190089\n",
            "Average loss: 2.221510, Train accuracy: 0.188223, Val accuracy: 0.190362\n",
            "Average loss: 2.213138, Train accuracy: 0.190151, Val accuracy: 0.192751\n",
            "Average loss: 2.203918, Train accuracy: 0.192659, Val accuracy: 0.196437\n",
            "Average loss: 2.174931, Train accuracy: 0.201140, Val accuracy: 0.221145\n",
            "Average loss: 1.885593, Train accuracy: 0.285705, Val accuracy: 0.320388\n",
            "Average loss: 1.741267, Train accuracy: 0.334590, Val accuracy: 0.348509\n",
            "Average loss: 1.706343, Train accuracy: 0.351466, Val accuracy: 0.337383\n",
            "Learning rate 0.05216647830874363, \n",
            "Learning rate annealing 0.8547174357358398, \n",
            "Learning rate decay step size epoch 4,\n",
            "Regularization strength 1e-07\n",
            "Average loss: 2.224683, Train accuracy: 0.200935, Val accuracy: 0.241076\n",
            "Average loss: 1.742565, Train accuracy: 0.415094, Val accuracy: 0.655928\n",
            "Average loss: 0.839301, Train accuracy: 0.742211, Val accuracy: 0.815439\n",
            "Average loss: 0.631398, Train accuracy: 0.807477, Val accuracy: 0.828203\n",
            "Average loss: 0.546538, Train accuracy: 0.834078, Val accuracy: 0.851136\n",
            "Average loss: 0.507194, Train accuracy: 0.845869, Val accuracy: 0.852570\n",
            "Average loss: 0.478725, Train accuracy: 0.854128, Val accuracy: 0.866357\n",
            "Average loss: 0.455625, Train accuracy: 0.860048, Val accuracy: 0.863286\n",
            "Average loss: 0.427469, Train accuracy: 0.869075, Val accuracy: 0.872637\n",
            "Average loss: 0.413976, Train accuracy: 0.873324, Val accuracy: 0.878165\n",
            "Learning rate 0.00012079572304735331, \n",
            "Learning rate annealing 0.9179537789059782, \n",
            "Learning rate decay step size epoch 7,\n",
            "Regularization strength 1e-07\n",
            "Average loss: 2.309867, Train accuracy: 0.077586, Val accuracy: 0.078834\n",
            "Average loss: 2.306451, Train accuracy: 0.083097, Val accuracy: 0.086820\n",
            "Average loss: 2.303197, Train accuracy: 0.092943, Val accuracy: 0.096239\n",
            "Average loss: 2.300008, Train accuracy: 0.105331, Val accuracy: 0.108593\n",
            "Average loss: 2.296998, Train accuracy: 0.119254, Val accuracy: 0.119446\n",
            "Average loss: 2.294122, Train accuracy: 0.131283, Val accuracy: 0.131049\n",
            "Average loss: 2.291375, Train accuracy: 0.138689, Val accuracy: 0.136168\n",
            "Average loss: 2.288841, Train accuracy: 0.146094, Val accuracy: 0.146202\n",
            "Average loss: 2.286453, Train accuracy: 0.152254, Val accuracy: 0.154597\n",
            "Average loss: 2.284176, Train accuracy: 0.159830, Val accuracy: 0.161081\n",
            "Learning rate 0.4449832288135383, \n",
            "Learning rate annealing 0.38472877906567926, \n",
            "Learning rate decay step size epoch 5,\n",
            "Regularization strength 0.001\n",
            "Average loss: 1.479752, Train accuracy: 0.504778, Val accuracy: 0.764862\n",
            "Average loss: 0.772691, Train accuracy: 0.759820, Val accuracy: 0.743772\n",
            "Average loss: 0.689677, Train accuracy: 0.785517, Val accuracy: 0.806907\n",
            "Average loss: 0.648834, Train accuracy: 0.800532, Val accuracy: 0.781653\n",
            "Average loss: 0.637247, Train accuracy: 0.802239, Val accuracy: 0.801925\n",
            "Average loss: 0.461101, Train accuracy: 0.858700, Val accuracy: 0.862194\n",
            "Average loss: 0.443570, Train accuracy: 0.863205, Val accuracy: 0.861102\n",
            "Average loss: 0.436211, Train accuracy: 0.866618, Val accuracy: 0.832025\n",
            "Average loss: 0.435441, Train accuracy: 0.866106, Val accuracy: 0.872159\n",
            "Average loss: 0.434051, Train accuracy: 0.865765, Val accuracy: 0.867927\n",
            "Learning rate 0.08392826034372564, \n",
            "Learning rate annealing 0.30309893169722646, \n",
            "Learning rate decay step size epoch 7,\n",
            "Regularization strength 0.01\n",
            "Average loss: 2.238264, Train accuracy: 0.188513, Val accuracy: 0.191113\n",
            "Average loss: 2.229940, Train accuracy: 0.188001, Val accuracy: 0.189202\n",
            "Average loss: 2.226853, Train accuracy: 0.187302, Val accuracy: 0.188451\n",
            "Average loss: 2.225923, Train accuracy: 0.187370, Val accuracy: 0.188520\n",
            "Average loss: 2.225394, Train accuracy: 0.187216, Val accuracy: 0.190089\n",
            "Average loss: 2.224392, Train accuracy: 0.187506, Val accuracy: 0.189475\n",
            "Average loss: 2.219761, Train accuracy: 0.187523, Val accuracy: 0.187905\n",
            "Average loss: 2.208711, Train accuracy: 0.190168, Val accuracy: 0.193093\n",
            "Average loss: 2.194688, Train accuracy: 0.194895, Val accuracy: 0.201761\n",
            "Average loss: 2.151859, Train accuracy: 0.208238, Val accuracy: 0.240461\n",
            "Learning rate 0.06565725441236954, \n",
            "Learning rate annealing 0.6036131407447823, \n",
            "Learning rate decay step size epoch 9,\n",
            "Regularization strength 0.001\n",
            "Average loss: 2.226188, Train accuracy: 0.196123, Val accuracy: 0.235957\n",
            "Average loss: 1.526617, Train accuracy: 0.490547, Val accuracy: 0.705959\n",
            "Average loss: 0.775884, Train accuracy: 0.760332, Val accuracy: 0.812163\n",
            "Average loss: 0.631662, Train accuracy: 0.807187, Val accuracy: 0.839397\n",
            "Average loss: 0.562256, Train accuracy: 0.828175, Val accuracy: 0.855027\n",
            "Average loss: 0.517462, Train accuracy: 0.840068, Val accuracy: 0.860214\n",
            "Average loss: 0.485390, Train accuracy: 0.852404, Val accuracy: 0.863081\n",
            "Average loss: 0.464326, Train accuracy: 0.857779, Val accuracy: 0.845471\n",
            "Average loss: 0.447443, Train accuracy: 0.863103, Val accuracy: 0.867927\n",
            "Average loss: 0.404067, Train accuracy: 0.878647, Val accuracy: 0.884718\n",
            "Learning rate 0.011746921257951362, \n",
            "Learning rate annealing 0.27753750673086963, \n",
            "Learning rate decay step size epoch 9,\n",
            "Regularization strength 0.001\n",
            "Average loss: 2.251267, Train accuracy: 0.181381, Val accuracy: 0.191181\n",
            "Average loss: 2.234498, Train accuracy: 0.189076, Val accuracy: 0.194389\n",
            "Average loss: 2.228992, Train accuracy: 0.193871, Val accuracy: 0.208928\n",
            "Average loss: 2.217991, Train accuracy: 0.209484, Val accuracy: 0.225104\n",
            "Average loss: 2.193693, Train accuracy: 0.234055, Val accuracy: 0.257798\n",
            "Average loss: 2.100853, Train accuracy: 0.285653, Val accuracy: 0.344345\n",
            "Average loss: 1.780902, Train accuracy: 0.397212, Val accuracy: 0.497236\n",
            "Average loss: 1.356595, Train accuracy: 0.560864, Val accuracy: 0.639274\n",
            "Average loss: 1.098700, Train accuracy: 0.658311, Val accuracy: 0.713603\n",
            "Average loss: 0.960277, Train accuracy: 0.708511, Val accuracy: 0.737970\n"
          ],
          "name": "stdout"
        }
      ]
    },
    {
      "cell_type": "code",
      "metadata": {
        "id": "Y6xExdw8JB1l",
        "colab": {
          "base_uri": "https://localhost:8080/"
        },
        "outputId": "3b96fa9d-8da5-42df-d4e4-6767d94bc22e"
      },
      "source": [
        "best_val_accuracy = None\n",
        "best_hyperparams = None\n",
        "best_run = None\n",
        "\n",
        "for hyperparams, run_result in run_record.items():\n",
        "    if best_val_accuracy is None or best_val_accuracy < run_result.final_val_accuracy:\n",
        "        best_val_accuracy = run_result.final_val_accuracy\n",
        "        best_hyperparams = hyperparams\n",
        "        best_run = run_result\n",
        "        \n",
        "print(\"Best validation accuracy: %4.2f, best hyperparams: %s\" % (best_val_accuracy, best_hyperparams))\n",
        "        "
      ],
      "execution_count": null,
      "outputs": [
        {
          "output_type": "stream",
          "text": [
            "Best validation accuracy: 0.88, best hyperparams: Hyperparams(learning_rate=0.06565725441236954, anneal_coeff=0.6036131407447823, anneal_epochs=9, reg=0.001)\n"
          ],
          "name": "stdout"
        }
      ]
    },
    {
      "cell_type": "markdown",
      "metadata": {
        "id": "LOmsR0uVgtgf"
      },
      "source": [
        "# Свободное упражнение - догоним и перегоним LeNet!\n",
        "\n",
        "Попробуйте найти архитектуру и настройки тренировки, чтобы выступить лучше наших бейзлайнов.\n",
        "\n",
        "Что можно и нужно попробовать:\n",
        "- BatchNormalization (для convolution layers он в PyTorch называется [batchnorm2d](https://pytorch.org/docs/stable/nn.html#batchnorm2d))\n",
        "- Изменить количество слоев и их толщину\n",
        "- Изменять количество эпох тренировки\n",
        "- Попробовать и другие агментации"
      ]
    },
    {
      "cell_type": "code",
      "metadata": {
        "id": "tSVhD747icoc"
      },
      "source": [
        "best_model = None\n",
        "\n",
        "Hyperparams = namedtuple(\"Hyperparams\", ['learning_rate', 'anneal_coeff', 'anneal_epochs', 'reg'])\n",
        "RunResult = namedtuple(\"RunResult\", ['model', 'train_history', 'val_history', 'final_val_accuracy'])\n",
        "\n",
        "learning_rates = [1e0, 1e-1, 1e-2, 1e-3, 1e-4]\n",
        "anneal_coeff = 0.2\n",
        "anneal_epochs = [1, 5, 10, 15, 20, 50]\n",
        "reg = [1e-2, 1e-3, 1e-4, 1e-5, 1e-7]\n",
        "\n",
        "batch_size = 64\n",
        "epoch_num = 20\n",
        "\n",
        "# Record all the runs here\n",
        "# Key should be Hyperparams and values should be RunResult\n",
        "run_record = {} \n",
        "\n",
        "# Use grid search or random search and record all runs in run_record dictionnary \n",
        "# Important: perform search in logarithmic space!\n",
        "\n",
        "# TODO: Your code here!\n",
        "\n",
        "annotation = \"\"\"Learning rate {}, \n",
        "Learning rate annealing {}, \n",
        "Learning rate decay step size epoch {},\n",
        "Regularization strength {}\"\"\"\n",
        "\n",
        "hyperparameters_presets = []\n",
        "\n",
        "for i in range(15):\n",
        "    learning_rate = 10**np.random.uniform(0, -4)\n",
        "    anneal_coeff = np.random.uniform(1e-0, 1e-2)\n",
        "    anneal_epoch = np.random.randint(1, epoch_num)\n",
        "    reg_strength = np.random.choice(reg)\n",
        "\n",
        "    hyperparams = Hyperparams(learning_rate, anneal_coeff, anneal_epoch, reg_strength)\n",
        "\n",
        "    title = annotation.format(learning_rate, anneal_coeff, anneal_epoch, reg_strength)\n",
        "    print(title)\n",
        "\n",
        "    # Model structure\n",
        "    cnn_model = nn.Sequential(\n",
        "              nn.Conv2d(3, 16, 3, padding=1),\n",
        "              nn.ReLU(inplace=True),\n",
        "              nn.BatchNorm2d(16),\n",
        "              nn.Conv2d(16, 32, 5),\n",
        "              nn.ReLU(inplace=True),\n",
        "              nn.BatchNorm2d(32),\n",
        "              nn.MaxPool2d(4),\n",
        "              nn.ReLU(inplace=True),\n",
        "              nn.Conv2d(32, 100, 4),\n",
        "              nn.ReLU(inplace=True),\n",
        "              nn.BatchNorm2d(100),\n",
        "              nn.MaxPool2d(4),\n",
        "              Flattener(),\n",
        "              nn.Linear(100, 150),\n",
        "              nn.ReLU(inplace=True),\n",
        "              nn.BatchNorm1d(150),\n",
        "              nn.Linear(150, 10)\n",
        "            )\n",
        "\n",
        "    cnn_model.type(torch.cuda.FloatTensor)\n",
        "    cnn_model.to(device)\n",
        "\n",
        "    loss = nn.CrossEntropyLoss().type(torch.cuda.FloatTensor)\n",
        "    optimizer = optim.Adam(cnn_model.parameters(), learning_rate, weight_decay=reg_strength)\n",
        "    scheduler = optim.lr_scheduler.StepLR(optimizer, step_size=anneal_epoch, gamma=anneal_coeff)\n",
        "\n",
        "    loss_history, train_history, val_history = train_model(cnn_model,\n",
        "                                                           train_aug_loader,\n",
        "                                                           val_loader,\n",
        "                                                           loss, optimizer, epoch_num,\n",
        "                                                           scheduler, anneal_epoch)\n",
        "\n",
        "    final_val_accuracy = val_history[-1]\n",
        "    run_result = RunResult(cnn_model, train_history, val_history, final_val_accuracy)    \n",
        "    run_record[hyperparams] = run_result\n",
        "\n",
        "\n",
        "best_val_accuracy = None\n",
        "best_hyperparams = None\n",
        "best_run = None\n",
        "\n",
        "for hyperparams, run_result in run_record.items():\n",
        "    if best_val_accuracy is None or best_val_accuracy < run_result.final_val_accuracy:\n",
        "        best_val_accuracy = run_result.final_val_accuracy\n",
        "        best_hyperparams = hyperparams\n",
        "        best_run = run_result\n",
        "\n",
        "best_model = best_run.model\n",
        "\n",
        "print(\"Best validation accuracy: %4.2f, best hyperparams: %s\" % (best_val_accuracy, best_hyperparams))\n"
      ],
      "execution_count": null,
      "outputs": []
    },
    {
      "cell_type": "markdown",
      "metadata": {
        "id": "1ukn0osMgg-p"
      },
      "source": [
        "# Coarse computed out best result\n",
        "\n",
        "*Learning rate* 0.000169774499014421\n",
        "\n",
        "*Learning rate annealing* 0.7826605538951845 \n",
        "\n",
        "*Learning rate decay step size epoch* 5\n",
        "\n",
        "*Regularization strength* 1e-05"
      ]
    },
    {
      "cell_type": "code",
      "metadata": {
        "colab": {
          "base_uri": "https://localhost:8080/",
          "height": 780
        },
        "id": "t6XMSGjuc-fr",
        "outputId": "26f7d1a1-eceb-4905-fc3b-cf6f232efa94"
      },
      "source": [
        "learning_rate = 0.0001699\n",
        "anneal_coeff = 0.6\n",
        "anneal_epoch = 3\n",
        "reg_strength = 0.05\n",
        "epoch_num = 15\n",
        "\n",
        "hyperparams = Hyperparams(learning_rate, anneal_coeff, anneal_epoch, reg_strength)\n",
        "\n",
        "title = annotation.format(learning_rate, anneal_coeff, anneal_epoch, reg_strength)\n",
        "print(title)\n",
        "\n",
        "best_model = nn.Sequential(\n",
        "              nn.Conv2d(3, 16, 3, padding=1),\n",
        "              nn.ReLU(inplace=True),\n",
        "              nn.BatchNorm2d(16),\n",
        "              nn.Conv2d(16, 32, 5),\n",
        "              nn.ReLU(inplace=True),\n",
        "              nn.BatchNorm2d(32),\n",
        "              nn.MaxPool2d(4),\n",
        "              nn.ReLU(inplace=True),\n",
        "              nn.Conv2d(32, 100, 4),\n",
        "              nn.ReLU(inplace=True),\n",
        "              nn.BatchNorm2d(100),\n",
        "              nn.MaxPool2d(4),\n",
        "              Flattener(),\n",
        "              nn.Linear(100, 150),\n",
        "              nn.ReLU(inplace=True),\n",
        "              nn.BatchNorm1d(150),\n",
        "              nn.Linear(150, 10)\n",
        "            )\n",
        "\n",
        "best_model.type(torch.cuda.FloatTensor)\n",
        "best_model.to(device)\n",
        "\n",
        "loss = nn.CrossEntropyLoss().type(torch.cuda.FloatTensor)\n",
        "optimizer = optim.Adam(best_model.parameters(), learning_rate, weight_decay=reg_strength)\n",
        "scheduler = optim.lr_scheduler.StepLR(optimizer, step_size=anneal_epoch, gamma=anneal_coeff)\n",
        "\n",
        "loss_history, train_history, val_history = train_model(best_model,\n",
        "                                                       train_aug_loader,\n",
        "                                                       val_loader,\n",
        "                                                       loss, optimizer, epoch_num,\n",
        "                                                       scheduler, anneal_epoch)\n",
        "# Visualise results\n",
        "plt.figure(figsize=(15, 7))\n",
        "plt.subplot(211)\n",
        "plt.title(\"Loss\")\n",
        "plt.plot(loss_history)\n",
        "plt.subplot(212)\n",
        "plt.title(\"Train/validation accuracy\")\n",
        "plt.plot(train_history)\n",
        "plt.plot(val_history)"
      ],
      "execution_count": 77,
      "outputs": [
        {
          "output_type": "stream",
          "text": [
            "Learning rate 0.0001699, \n",
            "Learning rate annealing 0.6, \n",
            "Learning rate decay step size epoch 3,\n",
            "Regularization strength 0.05\n",
            "Average loss: 1.390775, Train accuracy: 0.547555, Val accuracy: 0.784452\n",
            "Average loss: 0.617896, Train accuracy: 0.824813, Val accuracy: 0.857689\n",
            "Average loss: 0.497395, Train accuracy: 0.866225, Val accuracy: 0.882738\n",
            "Average loss: 0.442923, Train accuracy: 0.888646, Val accuracy: 0.903283\n",
            "Average loss: 0.434637, Train accuracy: 0.896837, Val accuracy: 0.908266\n",
            "Average loss: 0.440815, Train accuracy: 0.901699, Val accuracy: 0.914613\n",
            "Average loss: 0.431653, Train accuracy: 0.913473, Val accuracy: 0.917685\n",
            "Average loss: 0.440815, Train accuracy: 0.917295, Val accuracy: 0.920210\n",
            "Average loss: 0.451971, Train accuracy: 0.918353, Val accuracy: 0.919323\n",
            "Average loss: 0.443559, Train accuracy: 0.925707, Val accuracy: 0.921917\n",
            "Average loss: 0.441531, Train accuracy: 0.925741, Val accuracy: 0.926353\n",
            "Average loss: 0.440156, Train accuracy: 0.927823, Val accuracy: 0.926626\n",
            "Average loss: 0.428125, Train accuracy: 0.931850, Val accuracy: 0.927513\n",
            "Average loss: 0.423173, Train accuracy: 0.932720, Val accuracy: 0.927786\n",
            "Average loss: 0.420338, Train accuracy: 0.933846, Val accuracy: 0.928742\n"
          ],
          "name": "stdout"
        },
        {
          "output_type": "execute_result",
          "data": {
            "text/plain": [
              "[<matplotlib.lines.Line2D at 0x7fd52542fc50>]"
            ]
          },
          "metadata": {
            "tags": []
          },
          "execution_count": 77
        },
        {
          "output_type": "display_data",
          "data": {
            "image/png": "[encoded data removed]",
            "text/plain": [
              "<Figure size 1080x504 with 2 Axes>"
            ]
          },
          "metadata": {
            "tags": [],
            "needs_background": "light"
          }
        }
      ]
    },
    {
      "cell_type": "markdown",
      "metadata": {
        "id": "ubeKgBcnhx7N"
      },
      "source": [
        "# Финальный аккорд - проверим лучшую модель на test set\n",
        "\n",
        "В качестве разнообразия - напишите код для прогона модели на test set вы.\n",
        "\n",
        "В результате вы должны натренировать модель, которая покажет более **90%** точности на test set.  \n",
        "Как водится, лучший результат в группе получит дополнительные баллы!"
      ]
    },
    {
      "cell_type": "code",
      "metadata": {
        "id": "EIqM1kdeh-hd",
        "colab": {
          "base_uri": "https://localhost:8080/"
        },
        "outputId": "d457732b-1c8a-4258-b18a-ded0295a795f"
      },
      "source": [
        "# TODO Write the code to compute accuracy on test set\n",
        "test_loader = torch.utils.data.DataLoader(data_test, batch_size=batch_size)\n",
        "final_test_accuracy = compute_accuracy(best_model, test_loader)\n",
        "print(\"Final test accuracy - \", final_test_accuracy)"
      ],
      "execution_count": 78,
      "outputs": [
        {
          "output_type": "stream",
          "text": [
            "Final test accuracy -  0.9303933620159803\n"
          ],
          "name": "stdout"
        }
      ]
    }
  ]
}