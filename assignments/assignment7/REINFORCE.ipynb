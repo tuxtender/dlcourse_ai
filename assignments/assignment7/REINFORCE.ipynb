{
 "cells": [
  {
   "cell_type": "markdown",
   "metadata": {
    "colab_type": "text",
    "id": "AbwmoJusmueU"
   },
   "source": [
    "# Reinforcement Learning"
   ]
  },
  {
   "cell_type": "markdown",
   "metadata": {
    "colab_type": "text",
    "id": "7xcuGNp-mueX"
   },
   "source": [
    "В этом задании постараемся разобраться в проблеме обучения с подкреплением, реализуем алгоритм REINFORCE и научим агента с помощью этого алгоритма играть в игру Cartpole."
   ]
  },
  {
   "cell_type": "markdown",
   "metadata": {
    "colab_type": "text",
    "id": "4HoHMD_GmueZ"
   },
   "source": [
    "Установим и импортируем необходимые библиотеки, а также вспомогательные функции для визуализации игры агента."
   ]
  },
  {
   "cell_type": "code",
   "execution_count": null,
   "metadata": {
    "colab": {},
    "colab_type": "code",
    "id": "kHKfskxa7kaI",
    "scrolled": true
   },
   "outputs": [],
   "source": [
    "!pip install gym pandas torch matplotlib pyvirtualdisplay > /dev/null 2>&1\n",
    "!apt-get install -y xvfb python-opengl ffmpeg x11-utils > /dev/null 2>&1"
   ]
  },
  {
   "cell_type": "code",
   "execution_count": 225,
   "metadata": {
    "colab": {},
    "colab_type": "code",
    "id": "WiX0JVM3z0Ru"
   },
   "outputs": [],
   "source": [
    "from IPython.display import clear_output, HTML\n",
    "from IPython import display as ipythondisplay\n",
    "import matplotlib.pyplot as plt\n",
    "%matplotlib inline"
   ]
  },
  {
   "cell_type": "code",
   "execution_count": 226,
   "metadata": {
    "colab": {},
    "colab_type": "code",
    "id": "IsjSHknYl1rj"
   },
   "outputs": [],
   "source": [
    "import numpy as np\n",
    "import glob\n",
    "import time\n",
    "import io\n",
    "import base64\n",
    "import gym\n",
    "from gym.wrappers import Monitor\n",
    "import torch\n",
    "import collections\n",
    "import pandas as pd\n",
    "from torch import nn\n",
    "from torch.optim import Adam\n",
    "from torch.distributions import Categorical"
   ]
  },
  {
   "cell_type": "code",
   "execution_count": null,
   "metadata": {
    "colab": {},
    "colab_type": "code",
    "id": "b5KfVGq1n_8s",
    "scrolled": true
   },
   "outputs": [],
   "source": [
    "from pyvirtualdisplay import Display\n",
    "display = Display(visible=0, size=(1400, 900))\n",
    "display.start()"
   ]
  },
  {
   "cell_type": "code",
   "execution_count": null,
   "metadata": {
    "colab": {},
    "colab_type": "code",
    "id": "4xGh4QxDnlFw"
   },
   "outputs": [],
   "source": [
    "\"\"\"\n",
    "Utility functions to enable video recording of gym environment and displaying it\n",
    "To enable video, just do \"env = wrap_env(env)\"\"\n",
    "\"\"\"\n",
    "\n",
    "def show_video():\n",
    "    mp4list = glob.glob('video/*.mp4')\n",
    "    if len(mp4list) > 0:\n",
    "        mp4 = mp4list[0]\n",
    "        video = io.open(mp4, 'r+b').read()\n",
    "        encoded = base64.b64encode(video)\n",
    "        ipythondisplay.display(HTML(data='''<video alt=\"test\" autoplay \n",
    "                loop controls style=\"height: 400px;\">\n",
    "                <source src=\"data:video/mp4;base64,{0}\" type=\"video/mp4\" />\n",
    "             </video>'''.format(encoded.decode('ascii'))))\n",
    "    else: \n",
    "        print(\"Could not find video\")\n",
    "    \n",
    "\n",
    "def wrap_env(env):\n",
    "    env = Monitor(env, './video', force=True)\n",
    "    return env"
   ]
  },
  {
   "cell_type": "code",
   "execution_count": null,
   "metadata": {
    "colab": {},
    "colab_type": "code",
    "id": "Dfi89tXjmuet"
   },
   "outputs": [],
   "source": [
    "device = torch.device('cuda:0' if torch.cuda.is_available() else 'cpu') #позволяет перенести тензор на GPU, если он доступен в системе"
   ]
  },
  {
   "cell_type": "markdown",
   "metadata": {
    "colab_type": "text",
    "id": "AhDVTPxymuez"
   },
   "source": [
    "## OpenAI Gym"
   ]
  },
  {
   "cell_type": "markdown",
   "metadata": {
    "colab_type": "text",
    "id": "VZb-IIq4muez"
   },
   "source": [
    "[OpenAI Gym](https://gym.openai.com) это набор сред для разработки и сравнения алгоритмов обучения с подкреплением."
   ]
  },
  {
   "cell_type": "markdown",
   "metadata": {
    "colab_type": "text",
    "id": "fFkuRjxNmue2"
   },
   "source": [
    "OpenAI Gym предоставляет простой и универсальный API ко многим средам с разными свойствами, как простым так и сложным:\n",
    "* Классические задачи управления и игрушечные примеры, которые можно найти в учебниках и на которых демонстрируется работа алгоритмов обучения с подкреплением (одна из этих сред используется в этом задании)\n",
    "* Игры Atari (оказали огромное влияние на достижения в обучении с подкреплением в последние годы)\n",
    "* 2D и 3D среды для контроля роботов в симуляции (используют проприетарный движок [Mojuco](http://www.mujoco.org))"
   ]
  },
  {
   "cell_type": "markdown",
   "metadata": {
    "colab_type": "text",
    "id": "NIu0Uhj7mue5"
   },
   "source": [
    "Рассмотрим, как устроена среда [CartPole-v0](https://gym.openai.com/envs/CartPole-v0), с которой мы будем работать."
   ]
  },
  {
   "cell_type": "markdown",
   "metadata": {
    "colab_type": "text",
    "id": "KYHUeiMXmue6"
   },
   "source": [
    "Для этого создадим среду и выведем ее описание."
   ]
  },
  {
   "cell_type": "code",
   "execution_count": null,
   "metadata": {
    "colab": {},
    "colab_type": "code",
    "id": "b9BRqxoDmue7"
   },
   "outputs": [],
   "source": [
    "env = gym.make(\"CartPole-v0\")\n",
    "print(env.env.__doc__)"
   ]
  },
  {
   "cell_type": "markdown",
   "metadata": {
    "colab_type": "text",
    "id": "hZ98fYaxmufF"
   },
   "source": [
    "Но для начала напишем вспомогательную функцию, которая будет принимать на вход среду, агента и число эпизодов, и возвращать среднюю награду за 100 эпизодов. С помощью этой функции мы сможем протестировать, насколько хорошо обучился наш агент, а также визуализировать его поведение в среде."
   ]
  },
  {
   "cell_type": "code",
   "execution_count": null,
   "metadata": {
    "colab": {},
    "colab_type": "code",
    "id": "0jXEOwd7njUm"
   },
   "outputs": [],
   "source": [
    "def test_agent(env, agent=None, n_episodes=100):\n",
    "    \"\"\"Runs agent for n_episodes in environment and calclates mean reward.\n",
    "    \n",
    "    Args:\n",
    "        env: The environment for agent to play in\n",
    "        agent: The agent to play with. Defaults to None - \n",
    "            in this case random agent is used.\n",
    "        n_episodes: Number of episodes to play. Defaults to 100.\n",
    "\n",
    "    Returns:\n",
    "        Mean reward for 100 episodes.\n",
    "    \"\"\"\n",
    "    total_reward = []\n",
    "    for episode in range(n_episodes):\n",
    "        episode_reward = 0\n",
    "        observation = env.reset()\n",
    "        t = 0\n",
    "        while True:\n",
    "            if agent:\n",
    "                with torch.no_grad():\n",
    "                    probs = agent(torch.FloatTensor(observation).to(device))\n",
    "                    dist = Categorical(probs)\n",
    "                    action = dist.sample().item()\n",
    "            else:\n",
    "                action = env.action_space.sample()\n",
    "            observation, reward, done, info = env.step(action)\n",
    "            episode_reward += reward\n",
    "            t += 1\n",
    "            if done:\n",
    "                print(\"Episode {} finished after {} timesteps\".format(episode+1, t+1))\n",
    "                break\n",
    "        total_reward.append(episode_reward)\n",
    "        env.close()\n",
    "                   \n",
    "    return np.mean(total_reward)"
   ]
  },
  {
   "cell_type": "markdown",
   "metadata": {
    "colab_type": "text",
    "id": "tovAoT5dmufD"
   },
   "source": [
    "Из этого описания мы можем узнать, как устроены пространства состояний и действий в этой среды, какие награды получаются на каждом шаге, а также, что нам необходимо сделать, чтобы научиться \"решать\" эту среду, а именно достич средней награды больше 195.0 или больше за 100 последовательных запусков агента в этой среде. Именно такого агента мы и попробуем создать и обучить."
   ]
  },
  {
   "cell_type": "markdown",
   "metadata": {
    "colab_type": "text",
    "id": "TqnYqFVSmufL"
   },
   "source": [
    "Протестируем и визуализируем случайного агента (параметр ```agent=False```)."
   ]
  },
  {
   "cell_type": "code",
   "execution_count": null,
   "metadata": {
    "colab": {},
    "colab_type": "code",
    "id": "yqVokBDFmufM",
    "scrolled": true
   },
   "outputs": [],
   "source": [
    "test_agent(env, agent=False, n_episodes=100)"
   ]
  },
  {
   "cell_type": "markdown",
   "metadata": {
    "colab_type": "text",
    "id": "8bzNtyllmufS"
   },
   "source": [
    "Как видно, наш случайный агент выступает не очень хорошо и в среднем может удержать шест всего около 20 шагов."
   ]
  },
  {
   "cell_type": "markdown",
   "metadata": {
    "colab_type": "text",
    "id": "BNcZLQpzmufU"
   },
   "source": [
    "Напишем функцию для визуализации агента и посмотрим на случайного агента."
   ]
  },
  {
   "cell_type": "code",
   "execution_count": null,
   "metadata": {
    "colab": {},
    "colab_type": "code",
    "id": "GgThoRPgoMcs"
   },
   "outputs": [],
   "source": [
    "def agent_viz(env=\"CartPole-v0\", agent=None):\n",
    "    \"\"\"Visualizes agent play in the given environment.\n",
    "    \n",
    "    Args:\n",
    "        env: The environment for agent to play in. Defaults to CartPole-v0.\n",
    "        agent: The agent to play with. Defaults to None - \n",
    "            in this case random agent is used.\n",
    "\n",
    "    Returns:\n",
    "        Nothing is returned. Visualization is created and can be showed\n",
    "            with show_video() function.\n",
    "    \"\"\"\n",
    "    env = wrap_env(gym.make(env))\n",
    "    observation = env.reset()\n",
    "    while True:\n",
    "        env.render() \n",
    "        if agent:\n",
    "            with torch.no_grad():\n",
    "                probs = agent(torch.FloatTensor(observation).to(device))\n",
    "                dist = Categorical(probs)\n",
    "                action = dist.sample().item()\n",
    "        else:\n",
    "            action = env.action_space.sample()\n",
    "        observation, reward, done, info = env.step(action)\n",
    "        if done:\n",
    "            break\n",
    "            \n",
    "    env.close()"
   ]
  },
  {
   "cell_type": "code",
   "execution_count": null,
   "metadata": {
    "colab": {},
    "colab_type": "code",
    "id": "b5FLllE_pHSf"
   },
   "outputs": [],
   "source": [
    "agent_viz()\n",
    "show_video()"
   ]
  },
  {
   "cell_type": "markdown",
   "metadata": {
    "colab_type": "text",
    "id": "hpQF0xgJmufW"
   },
   "source": [
    "Попробуем применить обучение с подкреплением и алгоритм REINFORCE для того, чтобы в среднем за 100 эпиздов мы держали шест не менее 195 шагов."
   ]
  },
  {
   "cell_type": "markdown",
   "metadata": {
    "colab_type": "text",
    "id": "M2SkO__WmufX"
   },
   "source": [
    "## REINFORCE"
   ]
  },
  {
   "cell_type": "markdown",
   "metadata": {
    "colab_type": "text",
    "id": "QW95huRpmufY"
   },
   "source": [
    "Вспомним, что из себя представляет алгоритм REINFORCE (Sutton & Barto) <img src=\"//i.imgur.com/bnASTrY.png\" width=\"700\">"
   ]
  },
  {
   "cell_type": "markdown",
   "metadata": {
    "colab_type": "text",
    "id": "CFD7oH9mmufZ"
   },
   "source": [
    "1. Инициализуем политику (в качестве политики мы будем использовать глубокую нейронную сеть).\n",
    "2. \"Играем\" в среде эпизод, используя нашу политику, или несколько (мы будем использовать последний вариант) и собираем данные о состояниях, действиях и полученных наградах. \n",
    "3. Для каждого состояния в собранных эпизодах вычисляем сумму дисконтированных наград, полученных из этого состояния, а также логорифм правдоподобия предпринятого действия в этом состоянии для нашей политики.\n",
    "4. Обновляем параметры нашей политики по формуле на схеме."
   ]
  },
  {
   "cell_type": "markdown",
   "metadata": {
    "colab_type": "text",
    "id": "Zjhox1Rdmufa"
   },
   "source": [
    "### Политика"
   ]
  },
  {
   "cell_type": "markdown",
   "metadata": {
    "colab_type": "text",
    "id": "v5KOdiJrmufb"
   },
   "source": [
    "Наша политика должна принимать на вход состояние среды, а на выходе выдавать распределение по действиям, которые мы можем осуществлять в среде.\n",
    "\n",
    "**Задание:** Создать класс нейронной сети со следующей архитектурой ```Linear -> ReLU -> Linear -> Softmax```. Параметрами инициализации должны служить размерности пространства состояний, пространства действий и размер скрытого слоя."
   ]
  },
  {
   "cell_type": "code",
   "execution_count": null,
   "metadata": {
    "colab": {},
    "colab_type": "code",
    "id": "BSbzinGQidFm"
   },
   "outputs": [],
   "source": [
    "class Policy(nn.Module):\n",
    "    \"\"\"Policy to be used by agent.\n",
    "\n",
    "    Attributes:\n",
    "        state_size: Dimention of the state space of the environment.\n",
    "        act_size: Dimention of the action space of the environment.\n",
    "        hidden_size: Dimention of the hidden state of the agent's policy.\n",
    "    \"\"\"\n",
    "\n",
    "    def __init__(self, state_size, act_size, hidden_size):\n",
    "        super(Policy, self).__init__()\n",
    "        \n",
    "        self.linear0 = nn.Linear(state_size, hidden_size)\n",
    "        self.relu = nn.ReLU()\n",
    "        self.linear1 = nn.Linear(hidden_size, act_size)\n",
    "        self.softmax = nn.Softmax(dim=0)\n",
    "        \n",
    "    def forward(self, state):\n",
    "        \n",
    "        output = self.linear0(state)\n",
    "        output = self.relu(output)\n",
    "        output = self.linear1(output)\n",
    "        output = self.softmax(output)\n",
    "        \n",
    "        return output\n",
    "        \n",
    "        "
   ]
  },
  {
   "cell_type": "markdown",
   "metadata": {
    "colab_type": "text",
    "id": "E0bYNhJ_mufh"
   },
   "source": [
    "### Оценка правдоподобия и расчет суммы дисконтированных наград"
   ]
  },
  {
   "cell_type": "markdown",
   "metadata": {
    "colab_type": "text",
    "id": "QMZIoW8pmufi"
   },
   "source": [
    "**Задание:** Напишем вспомогательная функцию, которая принимает на вход политику, батч траекторий и фактор дисконтирования, и должна вернуть следующие величины: \n",
    "* правдоподобие действия на каждом шаге на траектории посчитанные для всего батча;\n",
    "* дисконтированные суммы наград (reward-to-go) из каждого состояния среды на траектории посчитанные для всего батча;"
   ]
  },
  {
   "cell_type": "markdown",
   "metadata": {
    "colab_type": "text",
    "id": "rcs_Xi-jmufl"
   },
   "source": [
    "**Hint**: Представим батч траекторий как ```list```, в котром также хранится ```list``` для каждой траектории, в котором каждый шаг хранится, как ```namedtuple```:\n",
    "```transition = collections.namedtuple(\"transition\", [\"state\", \"action\", \"reward\"])```"
   ]
  },
  {
   "cell_type": "code",
   "execution_count": null,
   "metadata": {
    "colab": {},
    "colab_type": "code",
    "id": "eGHfushNmufl"
   },
   "outputs": [],
   "source": [
    "def process_traj_batch(policy, batch, discount):\n",
    "    \"\"\"Computes log probabilities for each action \n",
    "        and rewards-to-go for each state in the batch of trajectories.\n",
    "    \n",
    "    Args:\n",
    "        policy: Policy of the agent.\n",
    "        batch (list of list of collections.namedtuple): Batch of trajectories.\n",
    "        discount (float): Discount factor for rewards-to-go calculation.\n",
    "\n",
    "    Returns:\n",
    "        log_probs (list of torch.FloatTensor): List of log probabilities for\n",
    "            each action in the batch of trajectories.\n",
    "        returns (list of rewards-to-go): List of rewards-to-go for \n",
    "            each state in the batch of trajectories.\n",
    "    \"\"\"\n",
    "    \n",
    "    log_probs = []\n",
    "    returns = []\n",
    "    \n",
    "    for transitions in batch:\n",
    "        for transition_number, transition in enumerate(transitions):\n",
    "            probability_actions  = policy(transition.state)\n",
    "            sample_action_probability = probability_actions[transition.action]\n",
    "            log_prob = torch.log(sample_action_probability)\n",
    "            log_probs.append(log_prob)\n",
    "            \n",
    "            discounted_reward = 0\n",
    "            future_transitions_size = len(transitions) - transition_number\n",
    "            \n",
    "            for i in range(future_transitions_size):\n",
    "                reward = transitions[transition_number].reward\n",
    "                discounted_reward += reward*discount**i\n",
    "            \n",
    "            returns.append(discounted_reward)\n",
    "    \n",
    "    return log_probs, returns"
   ]
  },
  {
   "cell_type": "markdown",
   "metadata": {
    "colab_type": "text",
    "id": "mp6xKRWXmufp"
   },
   "source": [
    "Ваша реализация функции должна проходить следующий тест."
   ]
  },
  {
   "cell_type": "code",
   "execution_count": null,
   "metadata": {
    "colab": {},
    "colab_type": "code",
    "id": "qVJnolh-mufq"
   },
   "outputs": [],
   "source": [
    "def test_process_traj_batch(process_traj_batch):\n",
    "    \n",
    "    transition = collections.namedtuple(\"transition\", [\"state\", \"action\", \"reward\"])\n",
    "    \n",
    "    class HelperPolicy(nn.Module):\n",
    "        def __init__(self):\n",
    "            super(HelperPolicy, self).__init__()\n",
    "        \n",
    "            self.act = nn.Sequential(\n",
    "                nn.Linear(4, 2),\n",
    "                nn.Softmax(dim=0),\n",
    "            )\n",
    "        \n",
    "        def forward(self, x):\n",
    "            return self.act(x)\n",
    "        \n",
    "    policy = HelperPolicy()\n",
    "    \n",
    "    for name, param in policy.named_parameters():\n",
    "        if name == \"act.0.weight\":\n",
    "            param.data = torch.tensor([[1.7492, -0.2471, 0.3310, 1.1494],\n",
    "                                       [0.6171, -0.6026, 0.5025, -0.3196]])\n",
    "        else:\n",
    "            param.data = torch.tensor([0.0262, 0.1882])\n",
    "            \n",
    "    batch = [\n",
    "        [\n",
    "            transition(state=torch.tensor([ 0.0462, -0.0018,  0.0372,  0.0063]), action=torch.tensor(0), reward=1.0), \n",
    "            transition(state=torch.tensor([ 0.0462, -0.1975,  0.0373,  0.3105]), action=torch.tensor(1), reward=1.0), \n",
    "            transition(state=torch.tensor([ 0.0422, -0.0029,  0.0435,  0.0298]), action=torch.tensor(0), reward=1.0), \n",
    "            transition(state=torch.tensor([ 0.0422, -0.1986,  0.0441,  0.3359]), action=torch.tensor(0), reward=1.0), \n",
    "        ],\n",
    "        [\n",
    "            transition(state=torch.tensor([ 0.0382, -0.3943,  0.0508,  0.6421]), action=torch.tensor(1), reward=1.0), \n",
    "            transition(state=torch.tensor([ 0.0303, -0.2000,  0.0637,  0.3659]), action=torch.tensor(1), reward=1.0), \n",
    "            transition(state=torch.tensor([ 0.0263, -0.0058,  0.0710,  0.0939]), action=torch.tensor(1), reward=1.0), \n",
    "            transition(state=torch.tensor([ 0.0262,  0.1882,  0.0729, -0.1755]), action=torch.tensor(0), reward=1.0)\n",
    "        ]\n",
    "    ]\n",
    "    \n",
    "    log_probs, returns = process_traj_batch(policy, batch, 0.9)\n",
    "    assert sum(log_probs).item() == -6.3940582275390625, \"Log probabilities calculation is incorrect!!!\"\n",
    "    print(f\"sum {sum(returns)}\")\n",
    "    assert sum(returns) == 18.098, \"Log probabilities calculation is incorrect!!!\"\n",
    "    print(\"Correct!\")"
   ]
  },
  {
   "cell_type": "code",
   "execution_count": null,
   "metadata": {
    "colab": {},
    "colab_type": "code",
    "id": "_qKrJpyBmufu",
    "scrolled": false
   },
   "outputs": [],
   "source": [
    "test_process_traj_batch(process_traj_batch)"
   ]
  },
  {
   "cell_type": "markdown",
   "metadata": {
    "colab_type": "text",
    "id": "7_y4MJPxmufz"
   },
   "source": [
    "### Вспомогательные функции и гиперпараметры"
   ]
  },
  {
   "cell_type": "markdown",
   "metadata": {
    "colab_type": "text",
    "id": "PKF5itlpmuf0"
   },
   "source": [
    "Функция для расчета скользящего среднего - ее мы будем использовать для визуализации наград по эпизодам."
   ]
  },
  {
   "cell_type": "code",
   "execution_count": 228,
   "metadata": {
    "colab": {},
    "colab_type": "code",
    "id": "tHgXs9aPmuf2"
   },
   "outputs": [],
   "source": [
    "moving_average = lambda x, **kw: pd.DataFrame({'x':np.asarray(x)}).x.ewm(**kw).mean().values"
   ]
  },
  {
   "cell_type": "markdown",
   "metadata": {
    "colab_type": "text",
    "id": "P3oqmQmxmuf6"
   },
   "source": [
    "Определим также гиперпараметры."
   ]
  },
  {
   "cell_type": "code",
   "execution_count": 233,
   "metadata": {
    "colab": {},
    "colab_type": "code",
    "id": "cFSLjGjOms0m"
   },
   "outputs": [],
   "source": [
    "STATE_SIZE  = env.observation_space.shape[0] # размерность пространства состояний среды\n",
    "ACT_SIZE = env.action_space.n # размерность пространства действий среды\n",
    "HIDDEN_SIZE = 256 # размер скрытого слоя для политики\n",
    "NUM_EPISODES = 1000 # количество эпиздов, которые будут сыграны для обучения\n",
    "DISCOUNT = 0.99 # фактор дисконтирования\n",
    "TRAIN_EVERY = 20"
   ]
  },
  {
   "cell_type": "markdown",
   "metadata": {
    "colab_type": "text",
    "id": "d1RZfo_1muf-"
   },
   "source": [
    "Инициализуем политику и алгоритм оптимизации - мы будем использовать Adam c праметрами по умолчанию."
   ]
  },
  {
   "cell_type": "code",
   "execution_count": 234,
   "metadata": {
    "colab": {},
    "colab_type": "code",
    "id": "zEKqg4Ykmuf_"
   },
   "outputs": [],
   "source": [
    "policy = Policy(STATE_SIZE, ACT_SIZE, HIDDEN_SIZE).to(device)\n",
    "optimizer = Adam(policy.parameters())"
   ]
  },
  {
   "cell_type": "code",
   "execution_count": 235,
   "metadata": {
    "colab": {},
    "colab_type": "code",
    "id": "EIbRMh3MmugC"
   },
   "outputs": [],
   "source": [
    "transition = collections.namedtuple(\"transition\", [\"state\", \"action\", \"reward\"])"
   ]
  },
  {
   "cell_type": "markdown",
   "metadata": {
    "colab_type": "text",
    "id": "jRRCJTnimugE"
   },
   "source": [
    "### Основной цикл обучения"
   ]
  },
  {
   "cell_type": "markdown",
   "metadata": {
    "colab_type": "text",
    "id": "FcQ4-JMymugE"
   },
   "source": [
    "Теперь, когда мы опредлели вспомогательные функции, то нам следует написать основной цикл обучения агент.\n",
    "В цикле должно происходить следующее:"
   ]
  },
  {
   "cell_type": "markdown",
   "metadata": {
    "colab_type": "text",
    "id": "1wih2vIYmugG"
   },
   "source": [
    "1. Играем количество эпизодов, определенное в гиперпараметре ```NUM_EPISODES```.\n",
    "2. В каждом эпизоде сохраняем информацию о шагах на траектории - состояние, действие и награду.\n",
    "3. В конце каждого эпизода сохраняем вышеуказанную информацию о траектории. \n",
    "4. Периодически обучаемся на собранных эпизодах каждые ```TRAIN_EVERY``` эпизодов:  \n",
    "    4.1. Считаем для собранного батча для каждого шага на трактории правдоподобие и сумму дисконтированных наград.  \n",
    "    4.2. Обновляем параметры политики агента по формуле, приведенной на схеме."
   ]
  },
  {
   "cell_type": "markdown",
   "metadata": {
    "colab_type": "text",
    "id": "gb1eIuJqmugI"
   },
   "source": [
    "**Задание:** Реализовать алгоритм обучения, описанный на схеме и в тексте выше. Шаблон кода алгоритма представлен ниже. При этом следует сохранять сумму ревордов для каждого эпизода в переменную ```returns_history```. Алгоритму потребуется около 1000 эпизодов игры, для того чтобы научиться играть в игру (если после 1000 эпизодов агент играет немного хуже, чем для победы в игре, попробуйте обучать его немного дольше или установите критерий останова - когда средняя награда за 100 последних эпизодов превышает значение в ```env.spec.reward_threshold``` )"
   ]
  },
  {
   "cell_type": "code",
   "execution_count": 236,
   "metadata": {
    "colab": {},
    "colab_type": "code",
    "id": "cvEwjezan5tl"
   },
   "outputs": [
    {
     "data": {
      "image/png": "[encoded data removed]",
      "text/plain": [
       "<Figure size 864x432 with 1 Axes>"
      ]
     },
     "metadata": {
      "needs_background": "light"
     },
     "output_type": "display_data"
    }
   ],
   "source": [
    "returns_history = []\n",
    "traj_batch = []\n",
    "\n",
    "for i in range(NUM_EPISODES):\n",
    "    policy.eval()\n",
    "    \n",
    "    observation = env.reset()\n",
    "    reward = 1.0\n",
    "    \n",
    "    traj = []\n",
    "    t = 0\n",
    "    episode_reward = 0\n",
    "    \n",
    "    while True:\n",
    "        with torch.no_grad():\n",
    "            probs = policy(torch.FloatTensor(observation).to(device))\n",
    "            dist = Categorical(probs)\n",
    "            action = dist.sample().item()\n",
    "\n",
    "        state = torch.from_numpy(observation)\n",
    "        traj.append(transition(state, action, reward))\n",
    "        episode_reward += reward\n",
    "        t += 1\n",
    "        observation, reward, done, info = env.step(action)\n",
    "        \n",
    "        if done:\n",
    "            print(\"Episode {} finished after {} timesteps\".format(i+1, t+1))\n",
    "            break\n",
    "            \n",
    "    env.close()\n",
    "        \n",
    "    returns_history.append(episode_reward)\n",
    "            \n",
    "    traj_batch.append(traj) \n",
    "    \n",
    "    policy.train()\n",
    "    \n",
    "    if i % TRAIN_EVERY:\n",
    "        log_probs, returns = process_traj_batch(policy, traj_batch, DISCOUNT)\n",
    "        loss = -(torch.stack(log_probs) * torch.FloatTensor(returns).to(device)).sum()\n",
    "        optimizer.zero_grad()\n",
    "        loss.backward()\n",
    "        optimizer.step()\n",
    "        \n",
    "        traj_batch = []\n",
    "\n",
    "    if i % 10:\n",
    "        clear_output(True)\n",
    "        plt.figure(figsize=[12, 6])\n",
    "        plt.title('Returns'); plt.grid()\n",
    "        plt.scatter(np.arange(len(returns_history)), returns_history, alpha=0.1)\n",
    "        plt.plot(moving_average(returns_history, span=10, min_periods=10))\n",
    "        plt.show()"
   ]
  },
  {
   "cell_type": "markdown",
   "metadata": {
    "colab_type": "text",
    "id": "Be9Zh-MamugN"
   },
   "source": [
    "Протестируем обученного агента."
   ]
  },
  {
   "cell_type": "code",
   "execution_count": 237,
   "metadata": {
    "colab": {},
    "colab_type": "code",
    "id": "-ry9g_aBmugO"
   },
   "outputs": [
    {
     "name": "stdout",
     "output_type": "stream",
     "text": [
      "Episode 1 finished after 201 timesteps\n",
      "Episode 2 finished after 201 timesteps\n",
      "Episode 3 finished after 201 timesteps\n",
      "Episode 4 finished after 201 timesteps\n",
      "Episode 5 finished after 201 timesteps\n",
      "Episode 6 finished after 201 timesteps\n",
      "Episode 7 finished after 201 timesteps\n",
      "Episode 8 finished after 201 timesteps\n",
      "Episode 9 finished after 201 timesteps\n",
      "Episode 10 finished after 201 timesteps\n",
      "Episode 11 finished after 201 timesteps\n",
      "Episode 12 finished after 201 timesteps\n",
      "Episode 13 finished after 201 timesteps\n",
      "Episode 14 finished after 201 timesteps\n",
      "Episode 15 finished after 201 timesteps\n",
      "Episode 16 finished after 201 timesteps\n",
      "Episode 17 finished after 201 timesteps\n",
      "Episode 18 finished after 201 timesteps\n",
      "Episode 19 finished after 201 timesteps\n",
      "Episode 20 finished after 201 timesteps\n",
      "Episode 21 finished after 201 timesteps\n",
      "Episode 22 finished after 201 timesteps\n",
      "Episode 23 finished after 201 timesteps\n",
      "Episode 24 finished after 201 timesteps\n",
      "Episode 25 finished after 201 timesteps\n",
      "Episode 26 finished after 201 timesteps\n",
      "Episode 27 finished after 201 timesteps\n",
      "Episode 28 finished after 201 timesteps\n",
      "Episode 29 finished after 201 timesteps\n",
      "Episode 30 finished after 201 timesteps\n",
      "Episode 31 finished after 201 timesteps\n",
      "Episode 32 finished after 201 timesteps\n",
      "Episode 33 finished after 201 timesteps\n",
      "Episode 34 finished after 201 timesteps\n",
      "Episode 35 finished after 201 timesteps\n",
      "Episode 36 finished after 201 timesteps\n",
      "Episode 37 finished after 201 timesteps\n",
      "Episode 38 finished after 201 timesteps\n",
      "Episode 39 finished after 201 timesteps\n",
      "Episode 40 finished after 201 timesteps\n",
      "Episode 41 finished after 201 timesteps\n",
      "Episode 42 finished after 201 timesteps\n",
      "Episode 43 finished after 201 timesteps\n",
      "Episode 44 finished after 201 timesteps\n",
      "Episode 45 finished after 201 timesteps\n",
      "Episode 46 finished after 201 timesteps\n",
      "Episode 47 finished after 201 timesteps\n",
      "Episode 48 finished after 201 timesteps\n",
      "Episode 49 finished after 201 timesteps\n",
      "Episode 50 finished after 201 timesteps\n",
      "Episode 51 finished after 201 timesteps\n",
      "Episode 52 finished after 201 timesteps\n",
      "Episode 53 finished after 201 timesteps\n",
      "Episode 54 finished after 201 timesteps\n",
      "Episode 55 finished after 201 timesteps\n",
      "Episode 56 finished after 201 timesteps\n",
      "Episode 57 finished after 201 timesteps\n",
      "Episode 58 finished after 201 timesteps\n",
      "Episode 59 finished after 201 timesteps\n",
      "Episode 60 finished after 201 timesteps\n",
      "Episode 61 finished after 201 timesteps\n",
      "Episode 62 finished after 201 timesteps\n",
      "Episode 63 finished after 201 timesteps\n",
      "Episode 64 finished after 201 timesteps\n",
      "Episode 65 finished after 201 timesteps\n",
      "Episode 66 finished after 201 timesteps\n",
      "Episode 67 finished after 201 timesteps\n",
      "Episode 68 finished after 201 timesteps\n",
      "Episode 69 finished after 201 timesteps\n",
      "Episode 70 finished after 201 timesteps\n",
      "Episode 71 finished after 201 timesteps\n",
      "Episode 72 finished after 201 timesteps\n",
      "Episode 73 finished after 201 timesteps\n",
      "Episode 74 finished after 201 timesteps\n",
      "Episode 75 finished after 201 timesteps\n",
      "Episode 76 finished after 201 timesteps\n",
      "Episode 77 finished after 201 timesteps\n",
      "Episode 78 finished after 201 timesteps\n",
      "Episode 79 finished after 201 timesteps\n",
      "Episode 80 finished after 201 timesteps\n",
      "Episode 81 finished after 201 timesteps\n",
      "Episode 82 finished after 201 timesteps\n",
      "Episode 83 finished after 201 timesteps\n",
      "Episode 84 finished after 201 timesteps\n",
      "Episode 85 finished after 201 timesteps\n",
      "Episode 86 finished after 201 timesteps\n",
      "Episode 87 finished after 201 timesteps\n",
      "Episode 88 finished after 201 timesteps\n",
      "Episode 89 finished after 201 timesteps\n",
      "Episode 90 finished after 201 timesteps\n",
      "Episode 91 finished after 201 timesteps\n",
      "Episode 92 finished after 201 timesteps\n",
      "Episode 93 finished after 201 timesteps\n",
      "Episode 94 finished after 201 timesteps\n",
      "Episode 95 finished after 201 timesteps\n",
      "Episode 96 finished after 201 timesteps\n",
      "Episode 97 finished after 201 timesteps\n",
      "Episode 98 finished after 201 timesteps\n",
      "Episode 99 finished after 201 timesteps\n",
      "Episode 100 finished after 201 timesteps\n"
     ]
    },
    {
     "data": {
      "text/plain": [
       "200.0"
      ]
     },
     "execution_count": 237,
     "metadata": {},
     "output_type": "execute_result"
    }
   ],
   "source": [
    "test_agent(env, agent=policy, n_episodes=100)"
   ]
  },
  {
   "cell_type": "markdown",
   "metadata": {
    "colab_type": "text",
    "id": "rf18pOwCmugS"
   },
   "source": [
    "Обученный агент должен приближаться к искомому значению средней награды за 100 эпизодов 195."
   ]
  },
  {
   "cell_type": "markdown",
   "metadata": {
    "colab_type": "text",
    "id": "Gk3bQdF_mugT"
   },
   "source": [
    "Визуализируем обученного агента."
   ]
  },
  {
   "cell_type": "code",
   "execution_count": 238,
   "metadata": {
    "colab": {},
    "colab_type": "code",
    "id": "c6QvXvwUsct6"
   },
   "outputs": [
    {
     "data": {
      "text/html": [
       "<video alt=\"test\" autoplay \n",
       "                loop controls style=\"height: 400px;\">\n",
       "                <source src=\"data:video/mp4;base64,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\" type=\"video/mp4\" />\n",
       "             </video>"
      ],
      "text/plain": [
       "<IPython.core.display.HTML object>"
      ]
     },
     "metadata": {},
     "output_type": "display_data"
    }
   ],
   "source": [
    "agent_viz(agent=policy)\n",
    "show_video()"
   ]
  },
  {
   "cell_type": "markdown",
   "metadata": {
    "colab_type": "text",
    "id": "YKkrymnnmugU"
   },
   "source": [
    "Как видно, агент выучил довольно хорошую стратегию для игры и способен долго удерживать шест."
   ]
  },
  {
   "cell_type": "markdown",
   "metadata": {
    "colab_type": "text",
    "id": "NHxdzJsQmugV"
   },
   "source": [
    "### REINFORCE with baselines (Опционально)"
   ]
  },
  {
   "cell_type": "markdown",
   "metadata": {
    "colab_type": "text",
    "id": "QM0DmpwlmugX"
   },
   "source": [
    "В лекциях вы слышали, что при расчете градиентов для обновления параметров политики агента мы можем вычесть из суммы дисконтированных наград ```baseline``` для уменьшения дисперсии градиентов и ускорения сходимости обучения - такой алгоритм называется REINFORCE with baselines. В качестве ```baseline``` мы можем использовать другую нейронную сеть, которая будет оценивать сумму дисконтированных наград из данного состояния *V(s)*. "
   ]
  },
  {
   "cell_type": "markdown",
   "metadata": {
    "colab_type": "text",
    "id": "jImFlpefmugX"
   },
   "source": [
    "Схема алгоритма REINFORCE with baselines (Sutton & Barto) <img src=\"//i.imgur.com/j3BcbHP.png\" width=\"700\">"
   ]
  },
  {
   "cell_type": "markdown",
   "metadata": {
    "colab_type": "text",
    "id": "ofDdKiKJmugY"
   },
   "source": [
    "**Задание**: Включите в уже разработанный алгоритм вторую нейронную сеть для оценки суммы дисконтированных наград *V(s)*. Используйте разницу между фактической суммой дисконтированных наград и оценкой в формуле функции потерь политики. В качестве функции потерь для *V(s)* используйте ```MSELoss```. Оцените скорость сходимости нового алгоритма."
   ]
  }
 ],
 "metadata": {
  "accelerator": "GPU",
  "colab": {
   "collapsed_sections": [],
   "name": "REINFORCE.ipynb",
   "private_outputs": true,
   "provenance": [],
   "version": "0.3.2"
  },
  "kernelspec": {
   "display_name": "Python 3 (ipykernel)",
   "language": "python",
   "name": "python3"
  },
  "language_info": {
   "codemirror_mode": {
    "name": "ipython",
    "version": 3
   },
   "file_extension": ".py",
   "mimetype": "text/x-python",
   "name": "python",
   "nbconvert_exporter": "python",
   "pygments_lexer": "ipython3",
   "version": "3.8.10"
  }
 },
 "nbformat": 4,
 "nbformat_minor": 1
}
